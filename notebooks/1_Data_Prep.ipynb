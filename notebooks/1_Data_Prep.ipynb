{
 "cells": [
  {
   "cell_type": "markdown",
   "metadata": {},
   "source": [
    "# Demonstration Notebook\n",
    "## Train model to recognize notes from input sounds\n",
    "\n",
    "By Ben Walsh \\\n",
    "For Liloquy\n",
    "\n",
    "&copy; 2021 Ben Walsh <ben@liloquy.io>\n",
    "\n",
    "## Contents\n",
    "\n",
    "1. [Import Libraries](#lib_import)\n",
    "1. [Data Import](#data_import)\n",
    "1. [Data Exploration](#data_explore)\n",
    "1. [Data Augmentation](#data_aug)\n",
    "1. [Feature Extraction](#feat_extract)\n",
    "1. [Save Features](#feat_save)\n"
   ]
  },
  {
   "cell_type": "markdown",
   "metadata": {},
   "source": [
    "TO DO\n",
    "- ->Move DATA_FOLDER to common data_util folder so train/test/eval notebooks can all use it\n",
    "- Add column to database for train=1, test=0\n",
    "- Generalize MUSIC_FPATH in piano_notes\n",
    "- Generalize training functions to look for any files matching corresponding note tag\n",
    "  - Add _Male2 recordings\n",
    "- Submodule repo into simple_gui"
   ]
  },
  {
   "cell_type": "code",
   "execution_count": 2,
   "metadata": {},
   "outputs": [],
   "source": [
    "%load_ext autoreload\n",
    "%autoreload 2"
   ]
  },
  {
   "cell_type": "markdown",
   "metadata": {},
   "source": [
    "## <a id = \"lib_import\"></a>1. Import Libraries"
   ]
  },
  {
   "cell_type": "code",
   "execution_count": 3,
   "metadata": {},
   "outputs": [
    {
     "name": "stdout",
     "output_type": "stream",
     "text": [
      "pygame 1.9.6\n",
      "Hello from the pygame community. https://www.pygame.org/contribute.html\n",
      "C:\\Users\\benja\\OneDrive\\Documents\\Python\\liloquy-git\\note-recognition\\sound_files\\Hum_Db4.wav does not exist\n",
      "C:\\Users\\benja\\OneDrive\\Documents\\Python\\liloquy-git\\note-recognition\\sound_files\\Hum_Eb4.wav does not exist\n",
      "C:\\Users\\benja\\OneDrive\\Documents\\Python\\liloquy-git\\note-recognition\\sound_files\\Hum_Gb4.wav does not exist\n",
      "C:\\Users\\benja\\OneDrive\\Documents\\Python\\liloquy-git\\note-recognition\\sound_files\\Hum_Ab4.wav does not exist\n",
      "C:\\Users\\benja\\OneDrive\\Documents\\Python\\liloquy-git\\note-recognition\\sound_files\\Hum_Bb4.wav does not exist\n",
      "C:\\Users\\benja\\OneDrive\\Documents\\Python\\liloquy-git\\note-recognition\\sound_files\\Hum_B4.wav does not exist\n"
     ]
    }
   ],
   "source": [
    "import sys\n",
    "import os\n",
    "import datetime\n",
    "import time\n",
    "\n",
    "import numpy as np\n",
    "import pandas as pd\n",
    "\n",
    "import matplotlib.pyplot as plt\n",
    "import ipywidgets as widgets\n",
    "\n",
    "from sklearn.model_selection import train_test_split\n",
    "from sklearn.metrics import accuracy_score\n",
    "from sklearn import svm\n",
    "from sklearn.preprocessing import LabelEncoder\n",
    "\n",
    "import xgboost as xgb\n",
    "\n",
    "import pickle\n",
    "import sqlite3\n",
    "\n",
    "from scipy.io import wavfile as wav\n",
    "from IPython.display import Audio\n",
    "\n",
    "# Add custom modules to path\n",
    "module_path = os.path.abspath(os.path.join('..'))\n",
    "if module_path not in sys.path:\n",
    "    sys.path.append(module_path)\n",
    "\n",
    "from util.music_util import note_to_freq, add_noise, melody_transcribe, melody_write, Note\n",
    "from util.ml_util import feat_extract, load_training_data\n"
   ]
  },
  {
   "cell_type": "markdown",
   "metadata": {},
   "source": [
    "## <a id = \"data_import\"></a>2. Data Import"
   ]
  },
  {
   "cell_type": "code",
   "execution_count": 4,
   "metadata": {},
   "outputs": [
    {
     "name": "stderr",
     "output_type": "stream",
     "text": [
      "C:\\Users\\benja\\Documents\\Python\\note-recognition\\util\\ml_util.py:83: WavFileWarning: Chunk (non-data) not understood, skipping it.\n",
      "  fs, signal = wav.read(training_data[note])\n"
     ]
    }
   ],
   "source": [
    "SCALE = ('C4', 'D4', 'E4', 'F4', 'G4', 'A4')\n",
    "DATA_FOLDER = r\"../data\"\n",
    "X, y, fs = load_training_data(SCALE)"
   ]
  },
  {
   "cell_type": "markdown",
   "metadata": {},
   "source": [
    "## <a id = \"data_explore\"></a> 3. Data Exploration"
   ]
  },
  {
   "cell_type": "markdown",
   "metadata": {},
   "source": [
    "### Overview\n",
    "Sanity check the dimensions of X and y"
   ]
  },
  {
   "cell_type": "code",
   "execution_count": 5,
   "metadata": {},
   "outputs": [
    {
     "name": "stdout",
     "output_type": "stream",
     "text": [
      "X is a <class 'numpy.ndarray'> with shape (6, 120000)\n",
      "X has 6 rows, and expected # of rows from notes = 6\n",
      "X sample length is 120000\n",
      "y has 6 samples, and expected # of samples from notes = 6\n"
     ]
    }
   ],
   "source": [
    "print('X is a {} with shape {}'.format(type(X), X.shape))\n",
    "print('X has {} rows, and expected # of rows from notes = {}'.format(X.shape[0], len(SCALE)))\n",
    "print('X sample length is {}'.format(X.shape[1]))\n",
    "print('y has {} samples, and expected # of samples from notes = {}'.format(len(y), len(SCALE)))"
   ]
  },
  {
   "cell_type": "markdown",
   "metadata": {},
   "source": [
    "### Plot Waveform"
   ]
  },
  {
   "cell_type": "code",
   "execution_count": 6,
   "metadata": {},
   "outputs": [
    {
     "data": {
      "image/png": "[encoded data removed]",
      "text/plain": [
       "<Figure size 432x288 with 2 Axes>"
      ]
     },
     "metadata": {
      "needs_background": "light"
     },
     "output_type": "display_data"
    }
   ],
   "source": [
    "# Pick a note to plot\n",
    "idx_test = 1\n",
    "signal_test = X[idx_test,:]\n",
    "note_test = SCALE[idx_test]\n",
    "\n",
    "# Create array of time samples, converting number of samples and dividing by sample of frequency \n",
    "t_array = np.arange(X.shape[1])/fs\n",
    "\n",
    "# Plot waveform over short time period to see sine\n",
    "plt.subplot(121)\n",
    "plt.xlim(0.1,0.9)\n",
    "plt.xlabel('Time (s)')\n",
    "plt.title('Hummed {}: {} Hz'.format(note_test, note_to_freq[note_test]))\n",
    "plt.plot(t_array, signal_test)\n",
    "\n",
    "# Plot waveform over shorter time period to see sine\n",
    "plt.subplot(122)\n",
    "plt.xlim(0.5 ,0.55)\n",
    "plt.xlabel('Time (s)')\n",
    "plt.title('Hummed {}: {} Hz'.format(note_test, note_to_freq[note_test]))\n",
    "plt.plot(t_array, signal_test)\n",
    "\n",
    "plt.show()\n"
   ]
  },
  {
   "cell_type": "markdown",
   "metadata": {},
   "source": [
    "### Plot Frequency"
   ]
  },
  {
   "cell_type": "code",
   "execution_count": 7,
   "metadata": {},
   "outputs": [
    {
     "data": {
      "image/png": "[encoded data removed]",
      "text/plain": [
       "<Figure size 432x288 with 1 Axes>"
      ]
     },
     "metadata": {
      "needs_background": "light"
     },
     "output_type": "display_data"
    }
   ],
   "source": [
    "# Take FFT\n",
    "ftransform = np.fft.fft(signal_test)/len(signal_test)\n",
    "ftransform = ftransform[range(int(len(signal_test)/2))]\n",
    "tp_count = len(signal_test)\n",
    "vals = np.arange(tp_count/2)\n",
    "t_period = tp_count/fs\n",
    "\n",
    "# Scale to Hz frequency values for plotting\n",
    "freqs = vals/t_period\n",
    "\n",
    "plt.plot(freqs, abs(ftransform))\n",
    "plt.xlim((0, 2*note_to_freq[note_test]))\n",
    "plt.xlabel('Frequency (Hz)')\n",
    "plt.title('Hummed {}: {} Hz'.format(note_test, note_to_freq[note_test]))\n",
    "plt.show()"
   ]
  },
  {
   "cell_type": "markdown",
   "metadata": {},
   "source": [
    "## <a id = \"data_aug\"></a> 4. Data Augmentation "
   ]
  },
  {
   "cell_type": "markdown",
   "metadata": {},
   "source": [
    "### Synthesize larger dataset \n",
    "Add noise to original recordings"
   ]
  },
  {
   "cell_type": "code",
   "execution_count": 8,
   "metadata": {},
   "outputs": [],
   "source": [
    "augment_factor = 10\n",
    "aug_ampl = 100\n",
    "\n",
    "# Initialize matrix where each row contains a noisy sample\n",
    "X_aug = np.empty((augment_factor*X.shape[0], X.shape[1]))\n",
    "y_aug = pd.DataFrame(np.empty((augment_factor*X.shape[0], 1)), columns=['note'])\n",
    "\n",
    "# Add white noise to each element\n",
    "for idx in range(X.shape[0]):\n",
    "    for sample in range(augment_factor):\n",
    "        X_aug[sample+augment_factor*idx,:] = add_noise(X[idx,:], ampl=aug_ampl)\n",
    "        y_aug.iloc[sample+augment_factor*idx,0] = SCALE[idx]"
   ]
  },
  {
   "cell_type": "markdown",
   "metadata": {},
   "source": [
    "Sanity check the dimensions of the augmented training set"
   ]
  },
  {
   "cell_type": "code",
   "execution_count": 9,
   "metadata": {},
   "outputs": [
    {
     "name": "stdout",
     "output_type": "stream",
     "text": [
      "X_aug has shape (60, 120000), with augment_factor = 10\n",
      "Original X has shape (6, 120000)\n"
     ]
    }
   ],
   "source": [
    "print('X_aug has shape {}, with augment_factor = {}'.format(X_aug.shape, augment_factor))\n",
    "print('Original X has shape {}'.format(X.shape))"
   ]
  },
  {
   "cell_type": "markdown",
   "metadata": {},
   "source": [
    "### Plot example with added noise\n"
   ]
  },
  {
   "cell_type": "code",
   "execution_count": 10,
   "metadata": {},
   "outputs": [
    {
     "data": {
      "image/png": "[encoded data removed]",
      "text/plain": [
       "<Figure size 432x288 with 1 Axes>"
      ]
     },
     "metadata": {
      "needs_background": "light"
     },
     "output_type": "display_data"
    },
    {
     "data": {
      "image/png": "[encoded data removed]",
      "text/plain": [
       "<Figure size 432x288 with 1 Axes>"
      ]
     },
     "metadata": {
      "needs_background": "light"
     },
     "output_type": "display_data"
    }
   ],
   "source": [
    "idx_test = 1\n",
    "signal_test1 = X_aug[idx_test*augment_factor,:]\n",
    "signal_test2 = X_aug[idx_test*augment_factor+1,:]\n",
    "note_test = SCALE[idx_test]\n",
    "\n",
    "# Plot waveform over shorter time period to see sine\n",
    "plt.subplot(211)\n",
    "plt.xlim(0.5 ,0.55)\n",
    "plt.xlabel('Time (s)')\n",
    "plt.title('Example 1 with noise - Hummed {}: {} Hz'.format(note_test, note_to_freq[note_test]))\n",
    "plt.plot(t_array, signal_test1)\n",
    "\n",
    "plt.show()\n",
    "\n",
    "plt.subplot(212)\n",
    "plt.xlim(0.5 ,0.55)\n",
    "plt.xlabel('Time (s)')\n",
    "plt.title('Example 2 with noise - Hummed {}: {} Hz'.format(note_test, note_to_freq[note_test]))\n",
    "plt.plot(t_array, signal_test2)\n",
    "\n",
    "plt.show()"
   ]
  },
  {
   "cell_type": "markdown",
   "metadata": {},
   "source": [
    "## <a id = \"feat_extract\"></a> 5. Feature Extraction "
   ]
  },
  {
   "cell_type": "code",
   "execution_count": 11,
   "metadata": {},
   "outputs": [],
   "source": [
    "X_feat = feat_extract(X_aug, fs, note_to_freq, SCALE)"
   ]
  },
  {
   "cell_type": "code",
   "execution_count": 12,
   "metadata": {},
   "outputs": [
    {
     "data": {
      "text/html": [
       "<div>\n",
       "<style scoped>\n",
       "    .dataframe tbody tr th:only-of-type {\n",
       "        vertical-align: middle;\n",
       "    }\n",
       "\n",
       "    .dataframe tbody tr th {\n",
       "        vertical-align: top;\n",
       "    }\n",
       "\n",
       "    .dataframe thead th {\n",
       "        text-align: right;\n",
       "    }\n",
       "</style>\n",
       "<table border=\"1\" class=\"dataframe\">\n",
       "  <thead>\n",
       "    <tr style=\"text-align: right;\">\n",
       "      <th></th>\n",
       "      <th>C4</th>\n",
       "      <th>D4</th>\n",
       "      <th>E4</th>\n",
       "      <th>F4</th>\n",
       "      <th>G4</th>\n",
       "      <th>A4</th>\n",
       "    </tr>\n",
       "  </thead>\n",
       "  <tbody>\n",
       "    <tr>\n",
       "      <th>0</th>\n",
       "      <td>0.288000</td>\n",
       "      <td>0.139593</td>\n",
       "      <td>0.134880</td>\n",
       "      <td>0.184075</td>\n",
       "      <td>0.215105</td>\n",
       "      <td>0.038346</td>\n",
       "    </tr>\n",
       "    <tr>\n",
       "      <th>1</th>\n",
       "      <td>0.286581</td>\n",
       "      <td>0.141493</td>\n",
       "      <td>0.130545</td>\n",
       "      <td>0.184010</td>\n",
       "      <td>0.216411</td>\n",
       "      <td>0.040960</td>\n",
       "    </tr>\n",
       "    <tr>\n",
       "      <th>2</th>\n",
       "      <td>0.289054</td>\n",
       "      <td>0.145666</td>\n",
       "      <td>0.131324</td>\n",
       "      <td>0.182897</td>\n",
       "      <td>0.212012</td>\n",
       "      <td>0.039047</td>\n",
       "    </tr>\n",
       "    <tr>\n",
       "      <th>3</th>\n",
       "      <td>0.281000</td>\n",
       "      <td>0.144241</td>\n",
       "      <td>0.139480</td>\n",
       "      <td>0.183919</td>\n",
       "      <td>0.210291</td>\n",
       "      <td>0.041069</td>\n",
       "    </tr>\n",
       "    <tr>\n",
       "      <th>4</th>\n",
       "      <td>0.284184</td>\n",
       "      <td>0.138525</td>\n",
       "      <td>0.130169</td>\n",
       "      <td>0.183930</td>\n",
       "      <td>0.220571</td>\n",
       "      <td>0.042621</td>\n",
       "    </tr>\n",
       "  </tbody>\n",
       "</table>\n",
       "</div>"
      ],
      "text/plain": [
       "         C4        D4        E4        F4        G4        A4\n",
       "0  0.288000  0.139593  0.134880  0.184075  0.215105  0.038346\n",
       "1  0.286581  0.141493  0.130545  0.184010  0.216411  0.040960\n",
       "2  0.289054  0.145666  0.131324  0.182897  0.212012  0.039047\n",
       "3  0.281000  0.144241  0.139480  0.183919  0.210291  0.041069\n",
       "4  0.284184  0.138525  0.130169  0.183930  0.220571  0.042621"
      ]
     },
     "execution_count": 12,
     "metadata": {},
     "output_type": "execute_result"
    }
   ],
   "source": [
    "X_feat.head()"
   ]
  },
  {
   "cell_type": "markdown",
   "metadata": {},
   "source": [
    "### Explore extracted features"
   ]
  },
  {
   "cell_type": "code",
   "execution_count": 13,
   "metadata": {
    "scrolled": true
   },
   "outputs": [
    {
     "data": {
      "image/png": "[encoded data removed]",
      "text/plain": [
       "<Figure size 432x288 with 1 Axes>"
      ]
     },
     "metadata": {
      "needs_background": "light"
     },
     "output_type": "display_data"
    }
   ],
   "source": [
    "note_test = 'D'\n",
    "plt.bar(SCALE, X_feat[y_aug['note'].str.contains(note_test)].mean())\n",
    "plt.title('Relative power across {} note training samples'.format(note_test))\n",
    "plt.show()"
   ]
  },
  {
   "cell_type": "markdown",
   "metadata": {},
   "source": [
    "## <a id = \"feat_save\"></a> 6. Save Features"
   ]
  },
  {
   "cell_type": "code",
   "execution_count": 14,
   "metadata": {},
   "outputs": [],
   "source": [
    "FEAT_DB_NAME = 'features.db'\n",
    "TABLE_NAME = 'X_all'\n",
    "conn = sqlite3.connect(FEAT_DB_NAME)\n",
    "c = conn.cursor()\n",
    "\n",
    "# Create table\n",
    "c.execute('''CREATE TABLE IF NOT EXISTS {}\n",
    "             ({} real, {} real, {} real, \n",
    "             {} real, {} real, {} real)'''.format(TABLE_NAME, X_feat.columns[0],\n",
    "                                                    X_feat.columns[1],\n",
    "                                                 X_feat.columns[2],\n",
    "                                                 X_feat.columns[3],\n",
    "                                                 X_feat.columns[4],\n",
    "                                                 X_feat.columns[5]))\n",
    "\n",
    "# Commit the changes to db\n",
    "conn.commit()\n",
    "\n",
    "# Insert multiple records in a single query\n",
    "c.executemany('INSERT INTO {} VALUES(?,?,?,?,?,?);'.format(TABLE_NAME), X_feat.values);\n",
    "conn.commit()\n",
    "\n",
    "# Close the connection\n",
    "conn.close()"
   ]
  },
  {
   "cell_type": "markdown",
   "metadata": {},
   "source": [
    "Split data for training and testing and save off features"
   ]
  },
  {
   "cell_type": "code",
   "execution_count": 16,
   "metadata": {},
   "outputs": [],
   "source": [
    "X_train, X_test, y_train, y_test = train_test_split(X_feat, y_aug, random_state=1)\n",
    "\n",
    "if not(os.path.exists(DATA_FOLDER)):\n",
    "    os.mkdir(DATA_FOLDER)\n",
    "\n",
    "X_train.to_csv(os.path.join(DATA_FOLDER,'X_train.csv'))\n",
    "X_test.to_csv(os.path.join(DATA_FOLDER,'X_test.csv'))\n",
    "\n",
    "y_train_file = '../data/y_train.csv'\n",
    "y_train.to_csv(y_train_file)\n",
    "y_test.to_csv('../data/y_test.csv')"
   ]
  },
  {
   "cell_type": "code",
   "execution_count": null,
   "metadata": {},
   "outputs": [],
   "source": []
  }
 ],
 "metadata": {
  "kernelspec": {
   "display_name": "Python 3",
   "language": "python",
   "name": "python3"
  },
  "language_info": {
   "codemirror_mode": {
    "name": "ipython",
    "version": 3
   },
   "file_extension": ".py",
   "mimetype": "text/x-python",
   "name": "python",
   "nbconvert_exporter": "python",
   "pygments_lexer": "ipython3",
   "version": "3.6.12"
  }
 },
 "nbformat": 4,
 "nbformat_minor": 2
}
