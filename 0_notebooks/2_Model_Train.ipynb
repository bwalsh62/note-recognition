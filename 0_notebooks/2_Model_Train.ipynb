{
 "cells": [
  {
   "cell_type": "markdown",
   "metadata": {},
   "source": [
    "# Demonstration Notebook\n",
    "## Train model to recognize notes from input sounds\n",
    "\n",
    "By Ben Walsh \\\n",
    "For Liloquy\n",
    "\n",
    "&copy; 2021 Ben Walsh <ben@liloquy.io>\n",
    "\n",
    "## Contents\n",
    "\n",
    "1. [Import Libraries](#lib_import)\n",
    "1. [Data Import](#data_import)\n",
    "1. [Train Model](#model_train)\n",
    "1. [Evaluate Model](#model_eval)\n",
    "1. [Save Model](#model_save)"
   ]
  },
  {
   "cell_type": "markdown",
   "metadata": {},
   "source": [
    "TO DO\n",
    "- Model registry\n",
    "- Generalize training functions to look for any files matching corresponding note tag\n",
    "  - Add _Male2 recordings\n",
    "- Submodule repo into simple_gui\n",
    "- Explore different models - try adding Neural Network\n",
    "- Feature importance with xgboost\n",
    "- Optimize hyper-parameters - use gridsearch\n",
    "- For model selection / parameter optimization, plot train/test errors, consider kfolds\n",
    "- Make dedicated train.py outside of notebook\n",
    "- Add model_params in model folder with notes, t_len/hum_len\n"
   ]
  },
  {
   "cell_type": "code",
   "execution_count": 1,
   "metadata": {},
   "outputs": [],
   "source": [
    "%load_ext autoreload\n",
    "%autoreload 2"
   ]
  },
  {
   "cell_type": "markdown",
   "metadata": {},
   "source": [
    "## <a id = \"lib_import\"></a>1. Import Libraries"
   ]
  },
  {
   "cell_type": "code",
   "execution_count": 2,
   "metadata": {
    "scrolled": true
   },
   "outputs": [
    {
     "name": "stdout",
     "output_type": "stream",
     "text": [
      "pygame 1.9.6\n",
      "Hello from the pygame community. https://www.pygame.org/contribute.html\n",
      "..\\1_audio\\hum\\Hum_Db4.wav does not exist\n",
      "..\\1_audio\\hum\\Hum_Eb4.wav does not exist\n",
      "..\\1_audio\\hum\\Hum_Gb4.wav does not exist\n",
      "..\\1_audio\\hum\\Hum_Ab4.wav does not exist\n",
      "..\\1_audio\\hum\\Hum_Bb4.wav does not exist\n",
      "..\\1_audio\\hum\\Hum_B4.wav does not exist\n"
     ]
    }
   ],
   "source": [
    "import sys\n",
    "import os\n",
    "import datetime\n",
    "import time\n",
    "\n",
    "import numpy as np\n",
    "import pandas as pd\n",
    "\n",
    "import matplotlib.pyplot as plt\n",
    "import ipywidgets as widgets\n",
    "\n",
    "from sklearn.model_selection import train_test_split\n",
    "from sklearn.metrics import accuracy_score\n",
    "from sklearn import svm\n",
    "from sklearn.preprocessing import LabelEncoder\n",
    "\n",
    "import xgboost as xgb\n",
    "\n",
    "import pickle\n",
    "\n",
    "from scipy.io import wavfile as wav\n",
    "from IPython.display import Audio\n",
    "\n",
    "import sqlite3\n",
    "\n",
    "# Add custom modules to path\n",
    "module_path = os.path.abspath(os.path.join('..'))\n",
    "if module_path not in sys.path:\n",
    "    sys.path.append(module_path)\n",
    "\n",
    "from util.music_util import note_to_freq, add_noise, melody_transcribe, melody_write, Note\n",
    "from util.ml_util import feat_extract, load_training_data\n",
    "from util import DATA_FOLDER, MODEL_FOLDER\n"
   ]
  },
  {
   "cell_type": "markdown",
   "metadata": {},
   "source": [
    "## <a id = \"data_import\"></a>2. Data Import"
   ]
  },
  {
   "cell_type": "code",
   "execution_count": 3,
   "metadata": {
    "scrolled": false
   },
   "outputs": [
    {
     "name": "stderr",
     "output_type": "stream",
     "text": [
      "C:\\Users\\benja\\Documents\\Python\\note-recognition\\util\\ml_util.py:96: WavFileWarning: Chunk (non-data) not understood, skipping it.\n",
      "  fs, signal = wav.read(training_data[note])\n"
     ]
    }
   ],
   "source": [
    "SCALE = ('C4', 'D4', 'E4', 'F4', 'G4', 'A4')\n",
    "X, y, fs = load_training_data(SCALE)"
   ]
  },
  {
   "cell_type": "markdown",
   "metadata": {},
   "source": [
    "### From CSV"
   ]
  },
  {
   "cell_type": "code",
   "execution_count": 4,
   "metadata": {},
   "outputs": [],
   "source": [
    "X_train = pd.read_csv(os.path.join(DATA_FOLDER,'X_train.csv'))\n",
    "X_test = pd.read_csv(os.path.join(DATA_FOLDER,'X_test.csv'))\n",
    "y_train = pd.read_csv(os.path.join(DATA_FOLDER,'y_train.csv'))\n",
    "y_test = pd.read_csv(os.path.join(DATA_FOLDER,'y_test.csv'))"
   ]
  },
  {
   "cell_type": "markdown",
   "metadata": {},
   "source": [
    "### From new SQL database (in development)"
   ]
  },
  {
   "cell_type": "markdown",
   "metadata": {},
   "source": [
    "FEAT_DB_NAME = 'features.db'\n",
    "TABLE_NAME = 'X_all'\n",
    "conn = sqlite3.connect(FEAT_DB_NAME)\n",
    "c = conn.cursor()\n",
    "c.execute('SELECT name from sqlite_master where type= \"table\"')\n",
    "\n",
    "print('Tables in {}: {}'.format(FEAT_DB_NAME, c.fetchall()))\n",
    "\n",
    "c.close()"
   ]
  },
  {
   "cell_type": "markdown",
   "metadata": {},
   "source": [
    "c = conn.cursor()\n",
    "sql = \"SELECT * FROM {}\".format(TABLE_NAME)\n",
    "c.execute(sql)\n",
    "imported_data = c.fetchall()\n",
    "print('Number of entries imported: {}'.format(len(imported_data)))\n",
    "c.close()"
   ]
  },
  {
   "cell_type": "markdown",
   "metadata": {},
   "source": [
    "## <a id = \"model_train\"></a>3. Train Model"
   ]
  },
  {
   "cell_type": "markdown",
   "metadata": {},
   "source": [
    "### Define Models"
   ]
  },
  {
   "cell_type": "markdown",
   "metadata": {},
   "source": [
    "#### SVM model"
   ]
  },
  {
   "cell_type": "code",
   "execution_count": 5,
   "metadata": {},
   "outputs": [],
   "source": [
    "svm_model = svm.SVC(gamma='scale')"
   ]
  },
  {
   "cell_type": "markdown",
   "metadata": {},
   "source": [
    "#### XGBoost model"
   ]
  },
  {
   "cell_type": "code",
   "execution_count": 6,
   "metadata": {},
   "outputs": [],
   "source": [
    "xgb_params = {}\n",
    "xgb_params['n_estimators'] = 100\n",
    "xgb_params['max_depth'] = 3\n",
    "xgb_params['reg_lambda'] = 1\n",
    "\n",
    "xgb_model = xgb.XGBRegressor(\n",
    "    n_estimators=xgb_params['n_estimators'],\n",
    "    reg_lambda=xgb_params['reg_lambda'],\n",
    "    gamma=0,\n",
    "    max_depth=xgb_params['max_depth']\n",
    ")"
   ]
  },
  {
   "cell_type": "markdown",
   "metadata": {},
   "source": [
    "### Fit Model"
   ]
  },
  {
   "cell_type": "code",
   "execution_count": 7,
   "metadata": {},
   "outputs": [
    {
     "name": "stderr",
     "output_type": "stream",
     "text": [
      "C:\\Users\\benja\\Anaconda3\\lib\\site-packages\\sklearn\\utils\\validation.py:72: DataConversionWarning: A column-vector y was passed when a 1d array was expected. Please change the shape of y to (n_samples, ), for example using ravel().\n",
      "  return f(**kwargs)\n"
     ]
    },
    {
     "data": {
      "text/plain": [
       "SVC()"
      ]
     },
     "execution_count": 7,
     "metadata": {},
     "output_type": "execute_result"
    }
   ],
   "source": [
    "svm_model.fit(X_train, y_train)"
   ]
  },
  {
   "cell_type": "markdown",
   "metadata": {},
   "source": [
    "For XGBoost, categorical labels must be encoded"
   ]
  },
  {
   "cell_type": "code",
   "execution_count": 8,
   "metadata": {},
   "outputs": [],
   "source": [
    "label_encoder = LabelEncoder()\n",
    "label_encoder = label_encoder.fit(y_train)\n",
    "label_encoded_y = label_encoder.transform(y_train)"
   ]
  },
  {
   "cell_type": "code",
   "execution_count": 9,
   "metadata": {},
   "outputs": [
    {
     "name": "stdout",
     "output_type": "stream",
     "text": [
      "[17:49:12] WARNING: C:/Jenkins/workspace/xgboost-win64_release_0.90/src/objective/regression_obj.cu:152: reg:linear is now deprecated in favor of reg:squarederror.\n"
     ]
    },
    {
     "data": {
      "text/plain": [
       "XGBRegressor()"
      ]
     },
     "execution_count": 9,
     "metadata": {},
     "output_type": "execute_result"
    }
   ],
   "source": [
    "xgb_model.fit(X_train, label_encoded_y)"
   ]
  },
  {
   "cell_type": "markdown",
   "metadata": {},
   "source": [
    "## <a id = \"model_eval\"></a>4. Evaluate Model"
   ]
  },
  {
   "cell_type": "code",
   "execution_count": 10,
   "metadata": {},
   "outputs": [
    {
     "name": "stdout",
     "output_type": "stream",
     "text": [
      "Accuracy on test set: 100.0\n"
     ]
    }
   ],
   "source": [
    "y_predict_svm = svm_model.predict(X_test)\n",
    "print(f\"Accuracy on test set: {100*accuracy_score(y_test, y_predict_svm)}\")"
   ]
  },
  {
   "cell_type": "code",
   "execution_count": 11,
   "metadata": {},
   "outputs": [
    {
     "name": "stdout",
     "output_type": "stream",
     "text": [
      "Accuracy on test set: 93.33333333333333\n"
     ]
    },
    {
     "name": "stderr",
     "output_type": "stream",
     "text": [
      "C:\\Users\\benja\\Anaconda3\\lib\\site-packages\\sklearn\\utils\\validation.py:72: DataConversionWarning: A column-vector y was passed when a 1d array was expected. Please change the shape of y to (n_samples, ), for example using ravel().\n",
      "  return f(**kwargs)\n"
     ]
    }
   ],
   "source": [
    "y_predict_xgb = xgb_model.predict(X_test)\n",
    "predictions = [round(value) for value in y_predict_xgb]\n",
    "# evaluate predictions\n",
    "print(f\"Accuracy on test set: {100*accuracy_score(label_encoder.transform(y_test), predictions)}\")"
   ]
  },
  {
   "cell_type": "markdown",
   "metadata": {},
   "source": [
    "## <a id = \"model_save\"></a>5. Save Model"
   ]
  },
  {
   "cell_type": "code",
   "execution_count": 12,
   "metadata": {},
   "outputs": [],
   "source": [
    "# Add timestamp to ensure unique name\n",
    "timestamp = datetime.datetime.now()\n",
    "timestamp_str = '{}-{:02}-{:02}-{:02}-{}-{}-{}'.format(timestamp.year, timestamp.month, timestamp.day, timestamp.hour, timestamp.minute, timestamp.second, timestamp.microsecond)\n",
    "\n",
    "pickle.dump(svm_model, open('{}/model-{}'.format(MODEL_FOLDER, timestamp_str), \"wb\"))"
   ]
  },
  {
   "cell_type": "code",
   "execution_count": null,
   "metadata": {},
   "outputs": [],
   "source": []
  }
 ],
 "metadata": {
  "kernelspec": {
   "display_name": "Python 3",
   "language": "python",
   "name": "python3"
  },
  "language_info": {
   "codemirror_mode": {
    "name": "ipython",
    "version": 3
   },
   "file_extension": ".py",
   "mimetype": "text/x-python",
   "name": "python",
   "nbconvert_exporter": "python",
   "pygments_lexer": "ipython3",
   "version": "3.6.12"
  }
 },
 "nbformat": 4,
 "nbformat_minor": 2
}
