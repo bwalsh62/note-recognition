{
 "cells": [
  {
   "cell_type": "markdown",
   "metadata": {},
   "source": [
    "# Demonstration Notebook\n",
    "\n",
    "Train a model to recognize notes from input sounds\n",
    "\n",
    "## Part 1: Data Preparation and Exploration\n",
    "\n",
    "By Ben Walsh \\\n",
    "For Bnaura\n",
    "\n",
    "&copy; 2021 Ben Walsh <ben@bnaura.com>\n",
    "\n",
    "## Contents\n",
    "\n",
    "1. [Import Libraries](#lib_import)\n",
    "1. [Data Import](#data_import)\n",
    "1. [Data Exploration](#data_explore)\n",
    "1. [Data Augmentation](#data_aug)\n",
    "1. [Feature Extraction](#feat_extract)\n",
    "1. [Save Features](#feat_save)\n"
   ]
  },
  {
   "cell_type": "markdown",
   "metadata": {},
   "source": [
    "TO DO\n",
    "- Consider variable time length\n",
    "- Add column to database for train=1, test=0\n",
    "- Generalize training functions to look for any files matching corresponding note tag\n",
    "  - Add _Male2 recordings\n",
    "- Submodule repo into simple_gui"
   ]
  },
  {
   "cell_type": "code",
   "execution_count": 1,
   "metadata": {},
   "outputs": [],
   "source": [
    "%load_ext autoreload\n",
    "%autoreload 2"
   ]
  },
  {
   "cell_type": "markdown",
   "metadata": {},
   "source": [
    "## <a id = \"lib_import\"></a>1. Import Libraries"
   ]
  },
  {
   "cell_type": "code",
   "execution_count": 2,
   "metadata": {},
   "outputs": [
    {
     "name": "stdout",
     "output_type": "stream",
     "text": [
      "pygame 1.9.6\n",
      "Hello from the pygame community. https://www.pygame.org/contribute.html\n"
     ]
    }
   ],
   "source": [
    "import sys\n",
    "import os\n",
    "import datetime\n",
    "import time\n",
    "\n",
    "import numpy as np\n",
    "import pandas as pd\n",
    "\n",
    "import matplotlib.pyplot as plt\n",
    "import ipywidgets as widgets\n",
    "\n",
    "from sklearn.model_selection import train_test_split\n",
    "from sklearn.metrics import accuracy_score\n",
    "from sklearn import svm\n",
    "from sklearn.preprocessing import LabelEncoder\n",
    "\n",
    "import xgboost as xgb\n",
    "\n",
    "import pickle\n",
    "import sqlite3\n",
    "\n",
    "from scipy.io import wavfile as wav\n",
    "from IPython.display import Audio\n",
    "\n",
    "# Add custom modules to path\n",
    "module_path = os.path.abspath(os.path.join('..'))\n",
    "if module_path not in sys.path:\n",
    "    sys.path.append(module_path)\n",
    "\n",
    "import util.music_util as mus \n",
    "from util.ml_util import feat_extract, load_training_data\n",
    "from util import DATA_FOLDER, SCALE\n"
   ]
  },
  {
   "cell_type": "markdown",
   "metadata": {},
   "source": [
    "## <a id = \"data_import\"></a>2. Data Import"
   ]
  },
  {
   "cell_type": "code",
   "execution_count": 3,
   "metadata": {},
   "outputs": [
    {
     "name": "stderr",
     "output_type": "stream",
     "text": [
      "C:\\Users\\benja\\Documents\\Python\\note-recognition\\util\\ml_util.py:124: WavFileWarning: Chunk (non-data) not understood, skipping it.\n",
      "  fs, signal = wav.read(training_data[note])\n"
     ]
    }
   ],
   "source": [
    "X, y, fs = load_training_data(SCALE)"
   ]
  },
  {
   "cell_type": "markdown",
   "metadata": {},
   "source": [
    "## <a id = \"data_explore\"></a> 3. Data Exploration"
   ]
  },
  {
   "cell_type": "markdown",
   "metadata": {},
   "source": [
    "### Overview\n",
    "Sanity check the dimensions of X and y"
   ]
  },
  {
   "cell_type": "code",
   "execution_count": 4,
   "metadata": {},
   "outputs": [
    {
     "name": "stdout",
     "output_type": "stream",
     "text": [
      "X is a <class 'numpy.ndarray'> with shape (6, 120000)\n",
      "X has 6 rows, and expected # of rows from notes = 6\n",
      "X sample length is 120000\n",
      "y has 6 samples, and expected # of samples from notes = 6\n"
     ]
    }
   ],
   "source": [
    "print('X is a {} with shape {}'.format(type(X), X.shape))\n",
    "print('X has {} rows, and expected # of rows from notes = {}'.format(X.shape[0], len(SCALE)))\n",
    "print('X sample length is {}'.format(X.shape[1]))\n",
    "print('y has {} samples, and expected # of samples from notes = {}'.format(len(y), len(SCALE)))"
   ]
  },
  {
   "cell_type": "markdown",
   "metadata": {},
   "source": [
    "### Plot Waveform"
   ]
  },
  {
   "cell_type": "code",
   "execution_count": 7,
   "metadata": {},
   "outputs": [],
   "source": [
    "def plot_note_over_time(idx=0):\n",
    "    \n",
    "    # Check valid input\n",
    "    valid_inputs = set(range(0, X.shape[0]))\n",
    "    if idx not in valid_inputs:\n",
    "        print('Error - index input {} not in valid range {}'.format(idx, valid_inputs))\n",
    "        return\n",
    "    \n",
    "    # Create array of time samples, converting number of samples and dividing by sample of frequency \n",
    "    t_array = np.arange(X.shape[1])/fs\n",
    "\n",
    "    # Plot waveform over short time period to see sine\n",
    "    plt.subplot(121)\n",
    "    plt.xlabel('Time (s)')\n",
    "    plt.title('Hummed {}: {} Hz'.format(SCALE[idx], mus.note_to_freq[SCALE[idx]]))\n",
    "    plt.plot(t_array, X[idx,:])\n",
    "\n",
    "    # Plot waveform over shorter time period to see sine\n",
    "    plt.subplot(122)\n",
    "    plt.xlim(0.5 ,0.55)\n",
    "    plt.xlabel('Time (s)')\n",
    "    plt.title('Hummed {}: {} Hz'.format(SCALE[idx], mus.note_to_freq[SCALE[idx]]))\n",
    "    plt.plot(t_array, X[idx,:])\n",
    "\n",
    "    plt.show()\n",
    "    "
   ]
  },
  {
   "cell_type": "code",
   "execution_count": 10,
   "metadata": {},
   "outputs": [
    {
     "data": {
      "image/png": "[encoded data removed]",
      "text/plain": [
       "<Figure size 432x288 with 2 Axes>"
      ]
     },
     "metadata": {
      "needs_background": "light"
     },
     "output_type": "display_data"
    }
   ],
   "source": [
    "# Pick a note to plot\n",
    "idx_test=2\n",
    "plot_note_over_time(idx=idx_test)"
   ]
  },
  {
   "cell_type": "markdown",
   "metadata": {},
   "source": [
    "### Plot Frequency"
   ]
  },
  {
   "cell_type": "code",
   "execution_count": 16,
   "metadata": {},
   "outputs": [],
   "source": [
    "def plot_note_over_freq(idx=0):\n",
    "\n",
    "    # Take FFT\n",
    "    ftransform = np.fft.fft(X[idx,:])/X.shape[1]\n",
    "    ftransform = ftransform[range(int(len(X[idx,:])/2))]\n",
    "    tp_count = X.shape[1]\n",
    "    vals = np.arange(tp_count/2)\n",
    "    t_period = tp_count/fs\n",
    "\n",
    "    # Scale to Hz frequency values for plotting\n",
    "    freqs = vals/t_period\n",
    "\n",
    "    plt.plot(freqs, abs(ftransform))\n",
    "    plt.xlim((0, 2*mus.note_to_freq[SCALE[idx]]))\n",
    "    plt.xlabel('Frequency (Hz)')\n",
    "    plt.title('Hummed {}: {} Hz'.format(SCALE[idx], mus.note_to_freq[SCALE[idx]]))\n",
    "    plt.show()"
   ]
  },
  {
   "cell_type": "code",
   "execution_count": 17,
   "metadata": {},
   "outputs": [
    {
     "data": {
      "image/png": "[encoded data removed]",
      "text/plain": [
       "<Figure size 432x288 with 1 Axes>"
      ]
     },
     "metadata": {
      "needs_background": "light"
     },
     "output_type": "display_data"
    }
   ],
   "source": [
    "plot_note_over_freq(idx=idx_test)"
   ]
  },
  {
   "cell_type": "markdown",
   "metadata": {},
   "source": [
    "## <a id = \"data_aug\"></a> 4. Data Augmentation \n",
    "\n",
    "Synthesize dataset `aug_factor` times larger"
   ]
  },
  {
   "cell_type": "code",
   "execution_count": 18,
   "metadata": {},
   "outputs": [],
   "source": [
    "aug_factor = 20\n",
    "\n",
    "# Initialize matrix where each row contains a noisy sample\n",
    "X_aug = np.empty((aug_factor*X.shape[0], X.shape[1]))\n",
    "y_aug = pd.DataFrame(np.empty((aug_factor*X.shape[0], 1)), columns=['note'])"
   ]
  },
  {
   "cell_type": "markdown",
   "metadata": {},
   "source": [
    "### 4.1 Add time shifts"
   ]
  },
  {
   "cell_type": "markdown",
   "metadata": {},
   "source": [
    "Demonstrate time shift code"
   ]
  },
  {
   "cell_type": "code",
   "execution_count": 21,
   "metadata": {
    "scrolled": true
   },
   "outputs": [
    {
     "name": "stdout",
     "output_type": "stream",
     "text": [
      "[1 2 3 4 5]\n",
      "Shape of input array = (5,)\n",
      "Input samp_shift_max = 4\n",
      "Random prepad_len = 2\n",
      "[0. 0. 1. 2. 3.]\n"
     ]
    }
   ],
   "source": [
    "arr1 = np.array(np.arange(1,6))\n",
    "print(arr1)\n",
    "print(mus.add_timeshifts(arr1, samp_shift_max=4, debug=True))"
   ]
  },
  {
   "cell_type": "markdown",
   "metadata": {},
   "source": [
    "Apply time shifts to augmented training data"
   ]
  },
  {
   "cell_type": "code",
   "execution_count": null,
   "metadata": {},
   "outputs": [],
   "source": [
    "# Add random time shifts noise to each element\n",
    "T_SHIFT_MAX = 0.2 # seconds\n",
    "DEBUG=False\n",
    "\n",
    "#X_aug = X_aug.apply(lambda x: mus.add_timeshifts(x, \n",
    "#                                         samp_shift_max=np.int(T_SHIFT_MAX*fs), \n",
    "#                                         debug=DEBUG), axis=1) \n",
    "\n",
    "for idx in range(X.shape[0]):\n",
    "            \n",
    "    # Initialize truth values in synthesized set\n",
    "    y_aug.loc[aug_factor*idx:aug_factor*(idx+1)]=SCALE[idx]\n",
    "    \n",
    "    for sample in range(aug_factor):\n",
    "        X_aug[sample+aug_factor*idx,:] = mus.add_timeshifts(X[idx,:], samp_shift_max=np.int(T_SHIFT_MAX*fs), debug=DEBUG)        "
   ]
  },
  {
   "cell_type": "markdown",
   "metadata": {},
   "source": [
    "### 4.2 Add noise \n",
    "Add noise to original recordings"
   ]
  },
  {
   "cell_type": "code",
   "execution_count": null,
   "metadata": {},
   "outputs": [],
   "source": [
    "NOISE_AMPL = 200\n",
    "\n",
    "# Add white noise to each element\n",
    "X_aug = pd.DataFrame(X_aug).apply(lambda x: mus.add_noise(x, \n",
    "                                    ampl=NOISE_AMPL),\n",
    "                                    axis=1).values"
   ]
  },
  {
   "cell_type": "markdown",
   "metadata": {},
   "source": [
    "Sanity check the dimensions of the augmented training set"
   ]
  },
  {
   "cell_type": "code",
   "execution_count": null,
   "metadata": {},
   "outputs": [],
   "source": [
    "print('X_aug has shape {}, with aug_factor = {}'.format(X_aug.shape, aug_factor))\n",
    "print('Original X has shape {}'.format(X.shape))\n",
    "print('y_aug has shape {}'.format(y_aug.shape))"
   ]
  },
  {
   "cell_type": "markdown",
   "metadata": {},
   "source": [
    "### Plot example with added noise and shifts"
   ]
  },
  {
   "cell_type": "code",
   "execution_count": null,
   "metadata": {},
   "outputs": [],
   "source": [
    "idx_test = 1\n",
    "signal_test1 = X_aug[idx_test*aug_factor,:]\n",
    "signal_test2 = X_aug[idx_test*aug_factor+5,:]\n",
    "note_test = SCALE[idx_test]\n",
    "\n",
    "# Plot waveform over shorter time period to see sine\n",
    "plt.subplot(212)\n",
    "plt.xlim(0.5 ,0.55)\n",
    "plt.xlabel('Time (s)')\n",
    "plt.title('Examples with noise - Hummed {}: {} Hz'.format(note_test, mus.note_to_freq[note_test]))\n",
    "plt.plot(t_array, signal_test1)\n",
    "plt.plot(t_array, signal_test2)\n",
    "\n",
    "plt.show()"
   ]
  },
  {
   "cell_type": "markdown",
   "metadata": {},
   "source": [
    "## <a id = \"feat_extract\"></a> 5. Feature Extraction "
   ]
  },
  {
   "cell_type": "code",
   "execution_count": null,
   "metadata": {
    "scrolled": false
   },
   "outputs": [],
   "source": [
    "X_feat = feat_extract(X_aug, fs, mus.note_to_freq, SCALE, debug=True)"
   ]
  },
  {
   "cell_type": "code",
   "execution_count": null,
   "metadata": {
    "scrolled": false
   },
   "outputs": [],
   "source": [
    "X_feat.head()"
   ]
  },
  {
   "cell_type": "markdown",
   "metadata": {},
   "source": [
    "### Explore extracted features"
   ]
  },
  {
   "cell_type": "code",
   "execution_count": null,
   "metadata": {
    "scrolled": true
   },
   "outputs": [],
   "source": [
    "NOTE_TEST1 = 'E'\n",
    "NOTE_TEST2 = 'F'\n",
    "plt.stem(X_feat[y_aug['note'].str.contains(NOTE_TEST1)].mean())\n",
    "plt.stem(X_feat[y_aug['note'].str.contains(NOTE_TEST2)].mean())\n",
    "plt.legend([NOTE_TEST1, NOTE_TEST2])\n",
    "\n",
    "#plt.bar(SCALE, X_feat[y_aug['note'].str.contains(NOTE_TEST)].mean())\n",
    "plt.title('Relative power across {} note training samples'.format(NOTE_TEST))\n",
    "plt.xlabel('MFCC filter #')\n",
    "plt.show()"
   ]
  },
  {
   "cell_type": "code",
   "execution_count": null,
   "metadata": {},
   "outputs": [],
   "source": [
    "NOTE1 = 'E4'\n",
    "NOTE2 = 'F4'\n",
    "#plt.scatter(X_feat[y_aug['note'].str.contains(NOTE1)][NOTE1], \n",
    "#            X_feat[y_aug['note'].str.contains(NOTE1)][NOTE2])\n",
    "#plt.scatter(X_feat[y_aug['note'].str.contains(NOTE2)][NOTE1], \n",
    "#            X_feat[y_aug['note'].str.contains(NOTE2)][NOTE2])\n",
    "\n",
    "feat1 = 'mfcc_logfbank_1'\n",
    "feat2 = 'mfcc_logfbank_8'\n",
    "\n",
    "plt.scatter(X_feat[y_aug['note'].str.contains(NOTE1)][feat1], \n",
    "            X_feat[y_aug['note'].str.contains(NOTE1)][feat2])\n",
    "plt.scatter(X_feat[y_aug['note'].str.contains(NOTE2)][feat1], \n",
    "            X_feat[y_aug['note'].str.contains(NOTE2)][feat2])\n",
    "\n",
    "plt.ylabel('Relative power at {}'.format(feat2))\n",
    "plt.xlabel('Relative power at {}'.format(feat1))\n",
    "plt.legend([NOTE1, NOTE2])\n",
    "plt.title('Feature separation between notes {} vs {}'.format(NOTE1, NOTE2))\n",
    "plt.show()"
   ]
  },
  {
   "cell_type": "markdown",
   "metadata": {},
   "source": [
    "## <a id = \"feat_save\"></a> 6. Save Features"
   ]
  },
  {
   "cell_type": "markdown",
   "metadata": {},
   "source": [
    "### Using SQL"
   ]
  },
  {
   "cell_type": "markdown",
   "metadata": {},
   "source": [
    "```\n",
    "FEAT_DB_NAME = os.path.join(DATA_FOLDER, 'features.db')\n",
    "TABLE_NAME = 'X_all'\n",
    "conn = sqlite3.connect(FEAT_DB_NAME)\n",
    "c = conn.cursor()\n",
    "\n",
    "# Create table\n",
    "c.execute('''CREATE TABLE IF NOT EXISTS {}\n",
    "             ({} real, {} real, {} real, \n",
    "             {} real, {} real, {} real)'''.format(TABLE_NAME, X_feat.columns[0],\n",
    "                                                    X_feat.columns[1],\n",
    "                                                 X_feat.columns[2],\n",
    "                                                 X_feat.columns[3],\n",
    "                                                 X_feat.columns[4],\n",
    "                                                 X_feat.columns[5]))\n",
    "\n",
    "# Commit the changes to db\n",
    "conn.commit()\n",
    "\n",
    "# Insert multiple records in a single query\n",
    "c.executemany('INSERT INTO {} VALUES(?,?,?,?,?,?);'.format(TABLE_NAME), X_feat.values);\n",
    "conn.commit()\n",
    "\n",
    "# Close the connection\n",
    "conn.close()\n",
    "```"
   ]
  },
  {
   "cell_type": "markdown",
   "metadata": {},
   "source": [
    "### Using CSV"
   ]
  },
  {
   "cell_type": "markdown",
   "metadata": {},
   "source": [
    "Split data for training and testing and save off features"
   ]
  },
  {
   "cell_type": "code",
   "execution_count": null,
   "metadata": {},
   "outputs": [],
   "source": [
    "X_train, X_test, y_train, y_test = train_test_split(X_feat, y_aug, random_state=1)\n",
    "\n",
    "if not(os.path.exists(DATA_FOLDER)):\n",
    "    os.mkdir(DATA_FOLDER)\n",
    "\n",
    "X_train.to_csv(os.path.join(DATA_FOLDER, 'X_train.csv'), index=False)\n",
    "X_test.to_csv(os.path.join(DATA_FOLDER, 'X_test.csv'), index=False)\n",
    "\n",
    "y_train.to_csv(os.path.join(DATA_FOLDER, 'y_train.csv'), index=False)\n",
    "y_test.to_csv(os.path.join(DATA_FOLDER, 'y_test.csv'), index=False)"
   ]
  },
  {
   "cell_type": "code",
   "execution_count": null,
   "metadata": {},
   "outputs": [],
   "source": []
  }
 ],
 "metadata": {
  "kernelspec": {
   "display_name": "Python 3",
   "language": "python",
   "name": "python3"
  },
  "language_info": {
   "codemirror_mode": {
    "name": "ipython",
    "version": 3
   },
   "file_extension": ".py",
   "mimetype": "text/x-python",
   "name": "python",
   "nbconvert_exporter": "python",
   "pygments_lexer": "ipython3",
   "version": "3.6.12"
  }
 },
 "nbformat": 4,
 "nbformat_minor": 2
}
