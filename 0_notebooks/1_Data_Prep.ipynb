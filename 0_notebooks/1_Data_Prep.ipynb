{
 "cells": [
  {
   "cell_type": "markdown",
   "metadata": {},
   "source": [
    "# Demonstration Notebook\n",
    "\n",
    "Train a model to recognize notes from input sounds\n",
    "\n",
    "## Part 1: Data Preparation and Exploration\n",
    "\n",
    "By Ben Walsh \\\n",
    "For Bnaura\n",
    "\n",
    "&copy; 2021 Ben Walsh <ben@bnaura.com>\n",
    "\n",
    "## Contents\n",
    "\n",
    "1. [Import Libraries](#lib_import)\n",
    "1. [Data Import](#data_import)\n",
    "1. [Data Exploration](#data_explore)\n",
    "1. [Data Augmentation](#data_aug)\n",
    "1. [Feature Extraction](#feat_extract)\n",
    "1. [Save Features](#feat_save)\n"
   ]
  },
  {
   "cell_type": "markdown",
   "metadata": {},
   "source": [
    "TO DO\n",
    "- Consider variable time length\n",
    "- Add column to database for train=1, test=0\n",
    "- Generalize training functions to look for any files matching corresponding note tag\n",
    "  - Add _Male2 recordings\n",
    "- Submodule repo into simple_gui"
   ]
  },
  {
   "cell_type": "code",
   "execution_count": 1,
   "metadata": {},
   "outputs": [],
   "source": [
    "%load_ext autoreload\n",
    "%autoreload 2"
   ]
  },
  {
   "cell_type": "markdown",
   "metadata": {},
   "source": [
    "## <a id = \"lib_import\"></a>1. Import Libraries"
   ]
  },
  {
   "cell_type": "code",
   "execution_count": 2,
   "metadata": {},
   "outputs": [
    {
     "name": "stdout",
     "output_type": "stream",
     "text": [
      "pygame 1.9.6\n",
      "Hello from the pygame community. https://www.pygame.org/contribute.html\n"
     ]
    }
   ],
   "source": [
    "import sys\n",
    "import os\n",
    "import datetime\n",
    "import time\n",
    "\n",
    "import numpy as np\n",
    "import pandas as pd\n",
    "\n",
    "import matplotlib.pyplot as plt\n",
    "import ipywidgets as widgets\n",
    "\n",
    "from sklearn.model_selection import train_test_split\n",
    "from sklearn.metrics import accuracy_score\n",
    "from sklearn import svm\n",
    "from sklearn.preprocessing import LabelEncoder\n",
    "\n",
    "import xgboost as xgb\n",
    "\n",
    "import pickle\n",
    "import sqlite3\n",
    "\n",
    "from scipy.io import wavfile as wav\n",
    "from IPython.display import Audio\n",
    "\n",
    "# Add custom modules to path\n",
    "module_path = os.path.abspath(os.path.join('..'))\n",
    "if module_path not in sys.path:\n",
    "    sys.path.append(module_path)\n",
    "\n",
    "import util.music_util as mus \n",
    "from util.ml_util import feat_extract, load_training_data\n",
    "from util import DATA_FOLDER, SCALE\n"
   ]
  },
  {
   "cell_type": "markdown",
   "metadata": {},
   "source": [
    "## <a id = \"data_import\"></a>2. Data Import"
   ]
  },
  {
   "cell_type": "code",
   "execution_count": 3,
   "metadata": {},
   "outputs": [
    {
     "name": "stderr",
     "output_type": "stream",
     "text": [
      "C:\\Users\\benja\\Documents\\Python\\note-recognition\\util\\ml_util.py:124: WavFileWarning: Chunk (non-data) not understood, skipping it.\n",
      "  fs, signal = wav.read(training_data[note])\n"
     ]
    }
   ],
   "source": [
    "X, y, fs = load_training_data(SCALE)"
   ]
  },
  {
   "cell_type": "markdown",
   "metadata": {},
   "source": [
    "## <a id = \"data_explore\"></a> 3. Data Exploration"
   ]
  },
  {
   "cell_type": "markdown",
   "metadata": {},
   "source": [
    "### Overview\n",
    "Sanity check the dimensions of X and y"
   ]
  },
  {
   "cell_type": "code",
   "execution_count": 4,
   "metadata": {},
   "outputs": [
    {
     "name": "stdout",
     "output_type": "stream",
     "text": [
      "X is a <class 'numpy.ndarray'> with shape (6, 120000)\n",
      "X has 6 rows, and expected # of rows from notes = 6\n",
      "X sample length is 120000\n",
      "y has 6 samples, and expected # of samples from notes = 6\n"
     ]
    }
   ],
   "source": [
    "print('X is a {} with shape {}'.format(type(X), X.shape))\n",
    "print('X has {} rows, and expected # of rows from notes = {}'.format(X.shape[0], len(SCALE)))\n",
    "print('X sample length is {}'.format(X.shape[1]))\n",
    "print('y has {} samples, and expected # of samples from notes = {}'.format(len(y), len(SCALE)))"
   ]
  },
  {
   "cell_type": "markdown",
   "metadata": {},
   "source": [
    "### Plot Waveform"
   ]
  },
  {
   "cell_type": "code",
   "execution_count": 7,
   "metadata": {},
   "outputs": [],
   "source": [
    "def plot_note_over_time(idx=0):\n",
    "    \n",
    "    # Check valid input\n",
    "    valid_inputs = set(range(0, X.shape[0]))\n",
    "    if idx not in valid_inputs:\n",
    "        print('Error - index input {} not in valid range {}'.format(idx, valid_inputs))\n",
    "        return\n",
    "    \n",
    "    # Create array of time samples, converting number of samples and dividing by sample of frequency \n",
    "    t_array = np.arange(X.shape[1])/fs\n",
    "\n",
    "    # Plot waveform over short time period to see sine\n",
    "    plt.subplot(121)\n",
    "    plt.xlabel('Time (s)')\n",
    "    plt.title('Hummed {}: {} Hz'.format(SCALE[idx], mus.note_to_freq[SCALE[idx]]))\n",
    "    plt.plot(t_array, X[idx,:])\n",
    "\n",
    "    # Plot waveform over shorter time period to see sine\n",
    "    plt.subplot(122)\n",
    "    plt.xlim(0.5 ,0.55)\n",
    "    plt.xlabel('Time (s)')\n",
    "    plt.title('Hummed {}: {} Hz'.format(SCALE[idx], mus.note_to_freq[SCALE[idx]]))\n",
    "    plt.plot(t_array, X[idx,:])\n",
    "\n",
    "    plt.show()\n",
    "    "
   ]
  },
  {
   "cell_type": "code",
   "execution_count": 10,
   "metadata": {},
   "outputs": [
    {
     "data": {
      "image/png": "[encoded data removed]",
      "text/plain": [
       "<Figure size 432x288 with 2 Axes>"
      ]
     },
     "metadata": {
      "needs_background": "light"
     },
     "output_type": "display_data"
    }
   ],
   "source": [
    "# Pick a note to plot\n",
    "idx_test=2\n",
    "plot_note_over_time(idx=idx_test)"
   ]
  },
  {
   "cell_type": "markdown",
   "metadata": {},
   "source": [
    "### Plot Frequency"
   ]
  },
  {
   "cell_type": "code",
   "execution_count": 16,
   "metadata": {},
   "outputs": [],
   "source": [
    "def plot_note_over_freq(idx=0):\n",
    "\n",
    "    # Take FFT\n",
    "    ftransform = np.fft.fft(X[idx,:])/X.shape[1]\n",
    "    ftransform = ftransform[range(int(len(X[idx,:])/2))]\n",
    "    tp_count = X.shape[1]\n",
    "    vals = np.arange(tp_count/2)\n",
    "    t_period = tp_count/fs\n",
    "\n",
    "    # Scale to Hz frequency values for plotting\n",
    "    freqs = vals/t_period\n",
    "\n",
    "    plt.plot(freqs, abs(ftransform))\n",
    "    plt.xlim((0, 2*mus.note_to_freq[SCALE[idx]]))\n",
    "    plt.xlabel('Frequency (Hz)')\n",
    "    plt.title('Hummed {}: {} Hz'.format(SCALE[idx], mus.note_to_freq[SCALE[idx]]))\n",
    "    plt.show()"
   ]
  },
  {
   "cell_type": "code",
   "execution_count": 17,
   "metadata": {},
   "outputs": [
    {
     "data": {
      "image/png": "[encoded data removed]",
      "text/plain": [
       "<Figure size 432x288 with 1 Axes>"
      ]
     },
     "metadata": {
      "needs_background": "light"
     },
     "output_type": "display_data"
    }
   ],
   "source": [
    "plot_note_over_freq(idx=idx_test)"
   ]
  },
  {
   "cell_type": "markdown",
   "metadata": {},
   "source": [
    "## <a id = \"data_aug\"></a> 4. Data Augmentation \n",
    "\n",
    "Synthesize dataset `aug_factor` times larger"
   ]
  },
  {
   "cell_type": "code",
   "execution_count": 18,
   "metadata": {},
   "outputs": [],
   "source": [
    "aug_factor = 20\n",
    "\n",
    "# Initialize matrix where each row contains a noisy sample\n",
    "X_aug = np.empty((aug_factor*X.shape[0], X.shape[1]))\n",
    "y_aug = pd.DataFrame(np.empty((aug_factor*X.shape[0], 1)), columns=['note'])"
   ]
  },
  {
   "cell_type": "markdown",
   "metadata": {},
   "source": [
    "### 4.0 Concatenate and split two-note melodies\n",
    "Notes have slightly different lengths so helps to generalize with different note combinations in long melodies"
   ]
  },
  {
   "cell_type": "code",
   "execution_count": null,
   "metadata": {},
   "outputs": [],
   "source": [
    "# stitch together C and D notes\n",
    "\n",
    "stitch_indices = (0,1)\n",
    "#stitched\n",
    "\n",
    "# split together based on generalized simplifying assumption \n",
    "# should generalize based on start/end time extracted from rise/fall time \n",
    "\n",
    "# Compare features from original and stitched/decoupled first note"
   ]
  },
  {
   "cell_type": "code",
   "execution_count": null,
   "metadata": {},
   "outputs": [],
   "source": [
    "#np.conc"
   ]
  },
  {
   "cell_type": "markdown",
   "metadata": {},
   "source": [
    "### 4.1 Add time shifts"
   ]
  },
  {
   "cell_type": "markdown",
   "metadata": {},
   "source": [
    "Demonstrate time shift code"
   ]
  },
  {
   "cell_type": "code",
   "execution_count": 22,
   "metadata": {
    "scrolled": true
   },
   "outputs": [
    {
     "name": "stdout",
     "output_type": "stream",
     "text": [
      "[1 2 3 4 5]\n",
      "Shape of input array = (5,)\n",
      "Input samp_shift_max = 4\n",
      "Random prepad_len = 2\n",
      "[0. 0. 1. 2. 3.]\n"
     ]
    }
   ],
   "source": [
    "arr1 = np.array(np.arange(1,6))\n",
    "print(arr1)\n",
    "print(mus.add_timeshifts(arr1, samp_shift_max=4, debug=True))"
   ]
  },
  {
   "cell_type": "markdown",
   "metadata": {},
   "source": [
    "Apply time shifts to augmented training data"
   ]
  },
  {
   "cell_type": "code",
   "execution_count": 23,
   "metadata": {},
   "outputs": [],
   "source": [
    "# Add random time shifts noise to each element\n",
    "T_SHIFT_MAX = 0.2 # seconds\n",
    "DEBUG=False\n",
    "\n",
    "#X_aug = X_aug.apply(lambda x: mus.add_timeshifts(x, \n",
    "#                                         samp_shift_max=np.int(T_SHIFT_MAX*fs), \n",
    "#                                         debug=DEBUG), axis=1) \n",
    "\n",
    "for idx in range(X.shape[0]):\n",
    "            \n",
    "    # Initialize truth values in synthesized set\n",
    "    y_aug.loc[aug_factor*idx:aug_factor*(idx+1)]=SCALE[idx]\n",
    "    \n",
    "    for sample in range(aug_factor):\n",
    "        X_aug[sample+aug_factor*idx,:] = mus.add_timeshifts(X[idx,:], samp_shift_max=np.int(T_SHIFT_MAX*fs), debug=DEBUG)        "
   ]
  },
  {
   "cell_type": "markdown",
   "metadata": {},
   "source": [
    "### 4.2 Add noise \n",
    "Add noise to original recordings"
   ]
  },
  {
   "cell_type": "code",
   "execution_count": 24,
   "metadata": {},
   "outputs": [],
   "source": [
    "NOISE_AMPL = 200\n",
    "\n",
    "# Add white noise to each element\n",
    "X_aug = pd.DataFrame(X_aug).apply(lambda x: mus.add_noise(x, \n",
    "                                    ampl=NOISE_AMPL),\n",
    "                                    axis=1).values"
   ]
  },
  {
   "cell_type": "markdown",
   "metadata": {},
   "source": [
    "Sanity check the dimensions of the augmented training set"
   ]
  },
  {
   "cell_type": "code",
   "execution_count": 25,
   "metadata": {},
   "outputs": [
    {
     "name": "stdout",
     "output_type": "stream",
     "text": [
      "X_aug has shape (120, 120000), with aug_factor = 20\n",
      "Original X has shape (6, 120000)\n",
      "y_aug has shape (120, 1)\n"
     ]
    }
   ],
   "source": [
    "print('X_aug has shape {}, with aug_factor = {}'.format(X_aug.shape, aug_factor))\n",
    "print('Original X has shape {}'.format(X.shape))\n",
    "print('y_aug has shape {}'.format(y_aug.shape))"
   ]
  },
  {
   "cell_type": "markdown",
   "metadata": {},
   "source": [
    "### Plot example with added noise and shifts"
   ]
  },
  {
   "cell_type": "code",
   "execution_count": 27,
   "metadata": {},
   "outputs": [
    {
     "data": {
      "image/png": "[encoded data removed]",
      "text/plain": [
       "<Figure size 432x288 with 1 Axes>"
      ]
     },
     "metadata": {
      "needs_background": "light"
     },
     "output_type": "display_data"
    }
   ],
   "source": [
    "idx_test = 1\n",
    "signal_test1 = X_aug[idx_test*aug_factor,:]\n",
    "signal_test2 = X_aug[idx_test*aug_factor+5,:]\n",
    "note_test = SCALE[idx_test]\n",
    "t_array = np.arange(X.shape[1])/fs\n",
    "\n",
    "# Plot waveform over shorter time period to see sine\n",
    "plt.subplot(212)\n",
    "plt.xlim(0.5 ,0.55)\n",
    "plt.xlabel('Time (s)')\n",
    "plt.title('Examples with noise - Hummed {}: {} Hz'.format(note_test, mus.note_to_freq[note_test]))\n",
    "plt.plot(t_array, signal_test1)\n",
    "plt.plot(t_array, signal_test2)\n",
    "\n",
    "plt.show()"
   ]
  },
  {
   "cell_type": "markdown",
   "metadata": {},
   "source": [
    "## <a id = \"feat_extract\"></a> 5. Feature Extraction "
   ]
  },
  {
   "cell_type": "code",
   "execution_count": 28,
   "metadata": {
    "scrolled": false
   },
   "outputs": [
    {
     "name": "stdout",
     "output_type": "stream",
     "text": [
      "Feature extraction processing time = 3.271\n"
     ]
    }
   ],
   "source": [
    "X_feat = feat_extract(X_aug, fs, mus.note_to_freq, SCALE, debug=True)"
   ]
  },
  {
   "cell_type": "code",
   "execution_count": 29,
   "metadata": {
    "scrolled": false
   },
   "outputs": [
    {
     "data": {
      "text/html": [
       "<div>\n",
       "<style scoped>\n",
       "    .dataframe tbody tr th:only-of-type {\n",
       "        vertical-align: middle;\n",
       "    }\n",
       "\n",
       "    .dataframe tbody tr th {\n",
       "        vertical-align: top;\n",
       "    }\n",
       "\n",
       "    .dataframe thead th {\n",
       "        text-align: right;\n",
       "    }\n",
       "</style>\n",
       "<table border=\"1\" class=\"dataframe\">\n",
       "  <thead>\n",
       "    <tr style=\"text-align: right;\">\n",
       "      <th></th>\n",
       "      <th>mfcc_logfbank_0</th>\n",
       "      <th>mfcc_logfbank_1</th>\n",
       "      <th>mfcc_logfbank_2</th>\n",
       "      <th>mfcc_logfbank_3</th>\n",
       "      <th>mfcc_logfbank_4</th>\n",
       "      <th>mfcc_logfbank_5</th>\n",
       "      <th>mfcc_logfbank_6</th>\n",
       "      <th>mfcc_logfbank_7</th>\n",
       "      <th>mfcc_logfbank_8</th>\n",
       "      <th>mfcc_logfbank_9</th>\n",
       "      <th>...</th>\n",
       "      <th>mfcc_logfbank_16</th>\n",
       "      <th>mfcc_logfbank_17</th>\n",
       "      <th>mfcc_logfbank_18</th>\n",
       "      <th>mfcc_logfbank_19</th>\n",
       "      <th>mfcc_logfbank_20</th>\n",
       "      <th>mfcc_logfbank_21</th>\n",
       "      <th>mfcc_logfbank_22</th>\n",
       "      <th>mfcc_logfbank_23</th>\n",
       "      <th>mfcc_logfbank_24</th>\n",
       "      <th>mfcc_logfbank_25</th>\n",
       "    </tr>\n",
       "  </thead>\n",
       "  <tbody>\n",
       "    <tr>\n",
       "      <th>0</th>\n",
       "      <td>2947.901316</td>\n",
       "      <td>2953.847442</td>\n",
       "      <td>2823.008309</td>\n",
       "      <td>2632.132170</td>\n",
       "      <td>2184.608903</td>\n",
       "      <td>2146.759332</td>\n",
       "      <td>2184.964684</td>\n",
       "      <td>2555.262421</td>\n",
       "      <td>2648.347865</td>\n",
       "      <td>2552.695027</td>\n",
       "      <td>...</td>\n",
       "      <td>3264.088958</td>\n",
       "      <td>3368.281778</td>\n",
       "      <td>3460.215942</td>\n",
       "      <td>3555.586972</td>\n",
       "      <td>3649.073269</td>\n",
       "      <td>3742.446430</td>\n",
       "      <td>3826.364140</td>\n",
       "      <td>3902.176633</td>\n",
       "      <td>3970.727527</td>\n",
       "      <td>4025.823714</td>\n",
       "    </tr>\n",
       "    <tr>\n",
       "      <th>1</th>\n",
       "      <td>2914.439734</td>\n",
       "      <td>2926.319045</td>\n",
       "      <td>2800.008385</td>\n",
       "      <td>2622.963983</td>\n",
       "      <td>2173.270061</td>\n",
       "      <td>2140.060613</td>\n",
       "      <td>2171.939937</td>\n",
       "      <td>2539.704949</td>\n",
       "      <td>2636.375733</td>\n",
       "      <td>2556.888339</td>\n",
       "      <td>...</td>\n",
       "      <td>3267.004240</td>\n",
       "      <td>3369.795729</td>\n",
       "      <td>3458.599340</td>\n",
       "      <td>3553.297703</td>\n",
       "      <td>3648.157373</td>\n",
       "      <td>3741.637464</td>\n",
       "      <td>3824.288083</td>\n",
       "      <td>3899.579061</td>\n",
       "      <td>3968.311995</td>\n",
       "      <td>4024.202657</td>\n",
       "    </tr>\n",
       "    <tr>\n",
       "      <th>2</th>\n",
       "      <td>2894.122071</td>\n",
       "      <td>2905.156037</td>\n",
       "      <td>2789.640971</td>\n",
       "      <td>2618.612675</td>\n",
       "      <td>2173.374344</td>\n",
       "      <td>2148.189743</td>\n",
       "      <td>2195.102424</td>\n",
       "      <td>2550.853633</td>\n",
       "      <td>2639.078814</td>\n",
       "      <td>2550.892216</td>\n",
       "      <td>...</td>\n",
       "      <td>3263.663847</td>\n",
       "      <td>3360.330517</td>\n",
       "      <td>3458.971777</td>\n",
       "      <td>3558.235349</td>\n",
       "      <td>3650.872313</td>\n",
       "      <td>3744.810059</td>\n",
       "      <td>3821.477184</td>\n",
       "      <td>3899.478802</td>\n",
       "      <td>3975.125287</td>\n",
       "      <td>4029.816336</td>\n",
       "    </tr>\n",
       "    <tr>\n",
       "      <th>3</th>\n",
       "      <td>2944.490695</td>\n",
       "      <td>2953.345349</td>\n",
       "      <td>2819.515811</td>\n",
       "      <td>2634.203976</td>\n",
       "      <td>2182.127225</td>\n",
       "      <td>2142.662540</td>\n",
       "      <td>2177.933263</td>\n",
       "      <td>2542.043252</td>\n",
       "      <td>2644.369221</td>\n",
       "      <td>2558.265968</td>\n",
       "      <td>...</td>\n",
       "      <td>3259.959918</td>\n",
       "      <td>3368.336394</td>\n",
       "      <td>3454.988113</td>\n",
       "      <td>3558.202075</td>\n",
       "      <td>3649.654971</td>\n",
       "      <td>3741.233508</td>\n",
       "      <td>3826.729961</td>\n",
       "      <td>3899.809587</td>\n",
       "      <td>3963.882336</td>\n",
       "      <td>4024.072780</td>\n",
       "    </tr>\n",
       "    <tr>\n",
       "      <th>4</th>\n",
       "      <td>2872.188712</td>\n",
       "      <td>2893.893256</td>\n",
       "      <td>2780.160271</td>\n",
       "      <td>2604.584002</td>\n",
       "      <td>2165.296560</td>\n",
       "      <td>2131.972222</td>\n",
       "      <td>2178.107773</td>\n",
       "      <td>2531.636878</td>\n",
       "      <td>2637.366751</td>\n",
       "      <td>2560.544474</td>\n",
       "      <td>...</td>\n",
       "      <td>3259.956224</td>\n",
       "      <td>3361.781469</td>\n",
       "      <td>3457.522450</td>\n",
       "      <td>3557.719002</td>\n",
       "      <td>3646.281697</td>\n",
       "      <td>3737.237952</td>\n",
       "      <td>3821.660085</td>\n",
       "      <td>3894.406046</td>\n",
       "      <td>3970.746325</td>\n",
       "      <td>4029.594994</td>\n",
       "    </tr>\n",
       "  </tbody>\n",
       "</table>\n",
       "<p>5 rows × 26 columns</p>\n",
       "</div>"
      ],
      "text/plain": [
       "   mfcc_logfbank_0  mfcc_logfbank_1  mfcc_logfbank_2  mfcc_logfbank_3  \\\n",
       "0      2947.901316      2953.847442      2823.008309      2632.132170   \n",
       "1      2914.439734      2926.319045      2800.008385      2622.963983   \n",
       "2      2894.122071      2905.156037      2789.640971      2618.612675   \n",
       "3      2944.490695      2953.345349      2819.515811      2634.203976   \n",
       "4      2872.188712      2893.893256      2780.160271      2604.584002   \n",
       "\n",
       "   mfcc_logfbank_4  mfcc_logfbank_5  mfcc_logfbank_6  mfcc_logfbank_7  \\\n",
       "0      2184.608903      2146.759332      2184.964684      2555.262421   \n",
       "1      2173.270061      2140.060613      2171.939937      2539.704949   \n",
       "2      2173.374344      2148.189743      2195.102424      2550.853633   \n",
       "3      2182.127225      2142.662540      2177.933263      2542.043252   \n",
       "4      2165.296560      2131.972222      2178.107773      2531.636878   \n",
       "\n",
       "   mfcc_logfbank_8  mfcc_logfbank_9  ...  mfcc_logfbank_16  mfcc_logfbank_17  \\\n",
       "0      2648.347865      2552.695027  ...       3264.088958       3368.281778   \n",
       "1      2636.375733      2556.888339  ...       3267.004240       3369.795729   \n",
       "2      2639.078814      2550.892216  ...       3263.663847       3360.330517   \n",
       "3      2644.369221      2558.265968  ...       3259.959918       3368.336394   \n",
       "4      2637.366751      2560.544474  ...       3259.956224       3361.781469   \n",
       "\n",
       "   mfcc_logfbank_18  mfcc_logfbank_19  mfcc_logfbank_20  mfcc_logfbank_21  \\\n",
       "0       3460.215942       3555.586972       3649.073269       3742.446430   \n",
       "1       3458.599340       3553.297703       3648.157373       3741.637464   \n",
       "2       3458.971777       3558.235349       3650.872313       3744.810059   \n",
       "3       3454.988113       3558.202075       3649.654971       3741.233508   \n",
       "4       3457.522450       3557.719002       3646.281697       3737.237952   \n",
       "\n",
       "   mfcc_logfbank_22  mfcc_logfbank_23  mfcc_logfbank_24  mfcc_logfbank_25  \n",
       "0       3826.364140       3902.176633       3970.727527       4025.823714  \n",
       "1       3824.288083       3899.579061       3968.311995       4024.202657  \n",
       "2       3821.477184       3899.478802       3975.125287       4029.816336  \n",
       "3       3826.729961       3899.809587       3963.882336       4024.072780  \n",
       "4       3821.660085       3894.406046       3970.746325       4029.594994  \n",
       "\n",
       "[5 rows x 26 columns]"
      ]
     },
     "execution_count": 29,
     "metadata": {},
     "output_type": "execute_result"
    }
   ],
   "source": [
    "X_feat.head()"
   ]
  },
  {
   "cell_type": "markdown",
   "metadata": {},
   "source": [
    "### Explore extracted features"
   ]
  },
  {
   "cell_type": "code",
   "execution_count": 45,
   "metadata": {
    "scrolled": true
   },
   "outputs": [
    {
     "data": {
      "image/png": "[encoded data removed]",
      "text/plain": [
       "<Figure size 432x288 with 1 Axes>"
      ]
     },
     "metadata": {
      "needs_background": "light"
     },
     "output_type": "display_data"
    }
   ],
   "source": [
    "NOTE_TEST1 = 'E'\n",
    "NOTE_TEST2 = 'F'\n",
    "plt.scatter(np.arange(X_feat.shape[1]), X_feat[y_aug['note'].str.contains(NOTE_TEST1)].mean())\n",
    "plt.scatter(np.arange(X_feat.shape[1]), X_feat[y_aug['note'].str.contains(NOTE_TEST2)].mean())\n",
    "plt.legend([NOTE_TEST1, NOTE_TEST2])\n",
    "\n",
    "#plt.bar(SCALE, X_feat[y_aug['note'].str.contains(NOTE_TEST)].mean())\n",
    "plt.title('Relative power {} vs {}'.format(NOTE_TEST1, NOTE_TEST2))\n",
    "plt.xlabel('MFCC filter #')\n",
    "plt.show()"
   ]
  },
  {
   "cell_type": "code",
   "execution_count": 46,
   "metadata": {},
   "outputs": [
    {
     "data": {
      "image/png": "[encoded data removed]",
      "text/plain": [
       "<Figure size 432x288 with 1 Axes>"
      ]
     },
     "metadata": {
      "needs_background": "light"
     },
     "output_type": "display_data"
    }
   ],
   "source": [
    "NOTE1 = 'E4'\n",
    "NOTE2 = 'F4'\n",
    "#plt.scatter(X_feat[y_aug['note'].str.contains(NOTE1)][NOTE1], \n",
    "#            X_feat[y_aug['note'].str.contains(NOTE1)][NOTE2])\n",
    "#plt.scatter(X_feat[y_aug['note'].str.contains(NOTE2)][NOTE1], \n",
    "#            X_feat[y_aug['note'].str.contains(NOTE2)][NOTE2])\n",
    "\n",
    "feat1 = 'mfcc_logfbank_1'\n",
    "feat2 = 'mfcc_logfbank_8'\n",
    "\n",
    "plt.scatter(X_feat[y_aug['note'].str.contains(NOTE1)][feat1], \n",
    "            X_feat[y_aug['note'].str.contains(NOTE1)][feat2])\n",
    "plt.scatter(X_feat[y_aug['note'].str.contains(NOTE2)][feat1], \n",
    "            X_feat[y_aug['note'].str.contains(NOTE2)][feat2])\n",
    "\n",
    "plt.ylabel('Relative power at {}'.format(feat2))\n",
    "plt.xlabel('Relative power at {}'.format(feat1))\n",
    "plt.legend([NOTE1, NOTE2])\n",
    "plt.title('Feature separation between notes {} vs {}'.format(NOTE1, NOTE2))\n",
    "plt.show()"
   ]
  },
  {
   "cell_type": "markdown",
   "metadata": {},
   "source": [
    "## <a id = \"feat_save\"></a> 6. Save Features"
   ]
  },
  {
   "cell_type": "markdown",
   "metadata": {},
   "source": [
    "### Using SQL"
   ]
  },
  {
   "cell_type": "markdown",
   "metadata": {},
   "source": [
    "```\n",
    "FEAT_DB_NAME = os.path.join(DATA_FOLDER, 'features.db')\n",
    "TABLE_NAME = 'X_all'\n",
    "conn = sqlite3.connect(FEAT_DB_NAME)\n",
    "c = conn.cursor()\n",
    "\n",
    "# Create table\n",
    "c.execute('''CREATE TABLE IF NOT EXISTS {}\n",
    "             ({} real, {} real, {} real, \n",
    "             {} real, {} real, {} real)'''.format(TABLE_NAME, X_feat.columns[0],\n",
    "                                                    X_feat.columns[1],\n",
    "                                                 X_feat.columns[2],\n",
    "                                                 X_feat.columns[3],\n",
    "                                                 X_feat.columns[4],\n",
    "                                                 X_feat.columns[5]))\n",
    "\n",
    "# Commit the changes to db\n",
    "conn.commit()\n",
    "\n",
    "# Insert multiple records in a single query\n",
    "c.executemany('INSERT INTO {} VALUES(?,?,?,?,?,?);'.format(TABLE_NAME), X_feat.values);\n",
    "conn.commit()\n",
    "\n",
    "# Close the connection\n",
    "conn.close()\n",
    "```"
   ]
  },
  {
   "cell_type": "markdown",
   "metadata": {},
   "source": [
    "### Using CSV"
   ]
  },
  {
   "cell_type": "markdown",
   "metadata": {},
   "source": [
    "Split data for training and testing and save off features"
   ]
  },
  {
   "cell_type": "code",
   "execution_count": 47,
   "metadata": {},
   "outputs": [],
   "source": [
    "X_train, X_test, y_train, y_test = train_test_split(X_feat, y_aug, random_state=1)\n",
    "\n",
    "if not(os.path.exists(DATA_FOLDER)):\n",
    "    os.mkdir(DATA_FOLDER)\n",
    "\n",
    "X_train.to_csv(os.path.join(DATA_FOLDER, 'X_train.csv'), index=False)\n",
    "X_test.to_csv(os.path.join(DATA_FOLDER, 'X_test.csv'), index=False)\n",
    "\n",
    "y_train.to_csv(os.path.join(DATA_FOLDER, 'y_train.csv'), index=False)\n",
    "y_test.to_csv(os.path.join(DATA_FOLDER, 'y_test.csv'), index=False)"
   ]
  },
  {
   "cell_type": "code",
   "execution_count": null,
   "metadata": {},
   "outputs": [],
   "source": []
  }
 ],
 "metadata": {
  "kernelspec": {
   "display_name": "Python 3",
   "language": "python",
   "name": "python3"
  },
  "language_info": {
   "codemirror_mode": {
    "name": "ipython",
    "version": 3
   },
   "file_extension": ".py",
   "mimetype": "text/x-python",
   "name": "python",
   "nbconvert_exporter": "python",
   "pygments_lexer": "ipython3",
   "version": "3.6.12"
  }
 },
 "nbformat": 4,
 "nbformat_minor": 2
}
